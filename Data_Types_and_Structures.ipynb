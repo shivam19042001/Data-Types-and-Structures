{
  "nbformat": 4,
  "nbformat_minor": 0,
  "metadata": {
    "colab": {
      "provenance": []
    },
    "kernelspec": {
      "name": "python3",
      "display_name": "Python 3"
    },
    "language_info": {
      "name": "python"
    }
  },
  "cells": [
    {
      "cell_type": "code",
      "execution_count": null,
      "metadata": {
        "colab": {
          "base_uri": "https://localhost:8080/",
          "height": 53
        },
        "id": "7uzoVmps0kFW",
        "outputId": "756c2f92-b2c7-4c1b-ff2f-3800e66f19d8",
        "collapsed": true
      },
      "outputs": [
        {
          "output_type": "execute_result",
          "data": {
            "text/plain": [
              "'\\n-Data structures are the fundamental building blocks of computer programming.\\n-Data structures are methods used to arrange and store data in a way that allows\\n for efficient access and modification. They play a crucial role in enhancing data\\n handling, optimizing algorithms, and improving the overall performance of applications.\\n'"
            ],
            "application/vnd.google.colaboratory.intrinsic+json": {
              "type": "string"
            }
          },
          "metadata": {},
          "execution_count": 3
        }
      ],
      "source": [
        "#1. What are data structures, and why are they important ?\n",
        "\n",
        "\"\"\"\n",
        "-Data structures are the fundamental building blocks of computer programming.\n",
        "-Data structures are methods used to arrange and store data in a way that allows\n",
        " for efficient access and modification. They play a crucial role in enhancing data\n",
        " handling, optimizing algorithms, and improving the overall performance of applications.\n",
        "\"\"\""
      ]
    },
    {
      "cell_type": "code",
      "source": [
        "#2 Explain the difference between mutable and immutable data types with examples.\n",
        "\"\"\"\n",
        "In Python, mutable and immutable data types determine whether an object's value can be changed after it is created.\n",
        "\n",
        "1️. Mutable Data Types (Changeable)\n",
        "- Definition: Mutable objects allow modification after creation without changing their memory address.\n",
        "Example:-\n",
        "\n",
        "my_list = [1, 2, 3]\n",
        "print(my_list)  # Output: [1, 2, 3]\n",
        "\n",
        "my_list[1] = 10  # Modifying the second element\n",
        "print(my_list)  # Output: [1, 10, 3]\n",
        "\n",
        "2. Immutable Data Types (Unchangeable)\n",
        "- Definition: Immutable objects cannot be changed after creation. Any modification creates a new object instead of changing the existing one.\n",
        "Example:-\n",
        "\n",
        "my_string = \"Hello\"\n",
        "print(my_string)  # Output: Hello\n",
        "\n",
        "my_string[0] = \"M\"  # Trying to modify the first character (This will cause an error)\n",
        "\n",
        "TypeError: 'str' object does not support item assignment\n",
        "\n",
        "\n",
        "\"\"\""
      ],
      "metadata": {
        "id": "-pXYQIPG5DRs"
      },
      "execution_count": null,
      "outputs": []
    },
    {
      "cell_type": "code",
      "source": [
        "#3 What are the main differences between lists and tuples in Python?\n",
        "\"\"\"\n",
        "Lists are modifiable, allowing their elements to be changed, whereas tuples are unchangeable once created.\n",
        "Lists provide more flexibility but are slower in access, while tuples, due to their immutability, enable faster iterations and are commonly used as dictionary keys.\n",
        "\"\"\""
      ],
      "metadata": {
        "id": "WmAdf1my7g2o"
      },
      "execution_count": null,
      "outputs": []
    },
    {
      "cell_type": "code",
      "source": [
        "#4  Describe how dictionaries store data\n",
        "\"\"\"\n",
        "Python dictionaries organize data as key-value pairs, where each key is linked\n",
        " to a corresponding value. They use a hashing mechanism to efficiently store and\n",
        " retrieve data. To access a value, the associated key must be provided.\n",
        " This design enables quick searches, insertions, and removals of data.\n",
        "\"\"\"\n"
      ],
      "metadata": {
        "id": "QigaO4D58q-g"
      },
      "execution_count": null,
      "outputs": []
    },
    {
      "cell_type": "code",
      "source": [
        "#5 Why might you use a set instead of a list in Python?\n",
        "\"\"\"\n",
        "Sets are helpful when you need to store only unique items and check if something exists\n",
        "quickly. Unlike lists, sets remove duplicates automatically, making them great for finding\n",
        "unique values or doing math-like operations with groups of items.\n",
        "\"\"\""
      ],
      "metadata": {
        "id": "f7gKGsOV8xZx"
      },
      "execution_count": null,
      "outputs": []
    },
    {
      "cell_type": "code",
      "source": [
        "#6 What is a string in Python, and how is it different from a list?\n",
        "\"\"\"\n",
        "A string in Python is a sequence of characters enclosed in quotes (\"\" or ''). It is used to store text data.\n",
        "\n",
        "-A string is a fixed sequence of characters that cannot be changed, while a list is a flexible collection\n",
        "  that can hold different types of data and be modified. Both allow indexing and slicing, but only lists\n",
        " can be updated after creation.\n",
        "\"\"\""
      ],
      "metadata": {
        "id": "3ftCBpH58xf6"
      },
      "execution_count": null,
      "outputs": []
    },
    {
      "cell_type": "code",
      "source": [
        "#7 How do tuples ensure data integrity in Python?\n",
        "\"\"\"\n",
        "A tuple in Python is an immutable sequence,\n",
        "meaning its contents cannot be changed after creation.\n",
        "This immutability helps ensure data integrity by preventing accidental modifications.\n",
        "\n",
        "1️ Prevents Unintended Changes – Once a tuple is created, its elements cannot be modified, reassigned, or removed.\n",
        "2️ Safe for Sensitive Data – Ensures critical information remains unchanged throughout the program.\n",
        "3️ Reliable as Dictionary Keys – Because tuples are immutable, they can be used as keys in dictionaries, ensuring consistency.\n",
        "4️ Thread-Safe – Since tuples cannot be modified, they are safer to use in multi-threaded applications.\n",
        "\"\"\""
      ],
      "metadata": {
        "id": "XJRSyZaA8xkd"
      },
      "execution_count": null,
      "outputs": []
    },
    {
      "cell_type": "code",
      "source": [
        "#8 What is a hash table, and how does it relate to dictionaries in Python?\n",
        "\"\"\"\n",
        "A hash table is a data structure that stores data in key-value pairs using a hashing function. It allows for fast lookups,\n",
        " insertions, and deletions by mapping keys to unique memory locations (indexes).\n",
        "\n",
        "-Python dictionaries utilize hash tables to organize data, which means you can swiftly retrieve values using their unique keys.\n",
        "\"\"\""
      ],
      "metadata": {
        "id": "MuinUYEd8xol"
      },
      "execution_count": null,
      "outputs": []
    },
    {
      "cell_type": "code",
      "source": [
        "#9 Can lists contain different data types in Python?\n",
        "\"\"\"\n",
        "Yes, lists in Python can contain different data types. Unlike arrays in some other languages,\n",
        " Python lists are flexible and can store a mix of integers, floats, strings, booleans, other lists, dictionaries, tuples, and even functions.\n",
        "\"\"\""
      ],
      "metadata": {
        "id": "QUr7xijE8xrk"
      },
      "execution_count": null,
      "outputs": []
    },
    {
      "cell_type": "code",
      "source": [
        "#10 Explain why strings are immutable in Python\n",
        "\"\"\"\n",
        "In Python, strings cannot be changed after creation, which helps improve efficiency and security.\n",
        "Every string operation generates a new object, preventing accidental changes and making the code more stable and reliable.\n",
        "\"\"\""
      ],
      "metadata": {
        "id": "X-bMaTXS8xu6"
      },
      "execution_count": null,
      "outputs": []
    },
    {
      "cell_type": "code",
      "source": [
        "#11 What advantages do dictionaries offer over lists for certain tasks?\n",
        "\"\"\"\n",
        "Dictionaries allow fast key-based lookups with constant-time complexity (O(1)),\n",
        " making them more efficient than lists for frequent data retrieval. In contrast,\n",
        "  lists require linear-time searching (O(n)), which becomes slower as the dataset grows.\n",
        "\"\"\""
      ],
      "metadata": {
        "id": "KH1qb8VD8xx8"
      },
      "execution_count": null,
      "outputs": []
    },
    {
      "cell_type": "code",
      "source": [
        "#12  Describe a scenario where using a tuple would be preferable over a list\n",
        "\"\"\"\n",
        "Tuples are preferable when data should remain constant.\n",
        "Imagine you're storing coordinates of a location (latitude and longitude) in a program. Since coordinates should not change, a tuple is the better choice.\n",
        "\"\"\""
      ],
      "metadata": {
        "id": "haNdn_Fz8x04"
      },
      "execution_count": null,
      "outputs": []
    },
    {
      "cell_type": "code",
      "source": [
        "#13 How do sets handle duplicate values in Python?\n",
        "\"\"\"\n",
        "In Python, sets automatically remove duplicate values when elements are added. This feature is helpful in situations where only unique elements are needed.\n",
        "\"\"\""
      ],
      "metadata": {
        "id": "4rsqQdOp8x35"
      },
      "execution_count": null,
      "outputs": []
    },
    {
      "cell_type": "code",
      "source": [
        "#14  How does the “in” keyword work differently for lists and dictionaries?\n",
        "\"\"\"\n",
        "The in keyword is used to check whether a value exists in a list or a dictionary,\n",
        " but it works differently for each:\n",
        "\n",
        "-> in with Lists (O(n))\n",
        "- Checks if a value exists in the list.\n",
        "- Requires scanning the entire list (linear search).\n",
        "- Slower for large lists because it checks each element one by one.\n",
        "\n",
        "-> in with Dictionaries (O(1))\n",
        "- Checks if a key exists, not values.\n",
        "- Uses hashing for fast lookups.\n",
        "- Much faster than lists because dictionary keys are hashed.\n",
        "\"\"\""
      ],
      "metadata": {
        "id": "9wQos4UY8x64"
      },
      "execution_count": null,
      "outputs": []
    },
    {
      "cell_type": "code",
      "source": [
        "#15 Can you modify the elements of a tuple? Explain why or why not.\n",
        "\"\"\"\n",
        "No, tuples are immutable in Python, meaning their elements cannot be changed after creation.\n",
        "\n",
        "- Why Are Tuples Immutable?\n",
        "1️ Memory Efficiency → Tuples use less memory than lists.\n",
        "2️ Faster Execution → Since they cannot be modified, Python optimizes their performance.\n",
        "3️ Safe for Hashing → Tuples can be used as keys in dictionaries, unlike lists.\n",
        "4️ Prevents Accidental Changes → Protects data from unintended modifications.\n",
        "\"\"\""
      ],
      "metadata": {
        "id": "qZ2KC8tD8x9q"
      },
      "execution_count": null,
      "outputs": []
    },
    {
      "cell_type": "code",
      "source": [
        "#16 What is a nested dictionary, and give an example of its use case?\n",
        "\"\"\"\n",
        "A nested dictionary is a dictionary inside another dictionary. It allows storing hierarchical or structured data, making it useful for organizing complex information.\n",
        "\n",
        "-Example of a Nested Dictionary\n",
        "Let’s say we need to store student records, including their name, age, and subjects with marks:\n",
        "\n",
        "students = {\n",
        "    \"student1\": {\n",
        "        \"name\": \"Alice\",\n",
        "        \"age\": 20,\n",
        "        \"marks\": {\"Math\": 85, \"Science\": 90}\n",
        "    },\n",
        "    \"student2\": {\n",
        "        \"name\": \"Bob\",\n",
        "        \"age\": 22,\n",
        "        \"marks\": {\"Math\": 78, \"Science\": 88}\n",
        "    }\n",
        "}\n",
        "- This structure helps store detailed data for multiple students efficiently.\n",
        "\n",
        "-> Use Cases of Nested Dictionaries\n",
        "- Storing User Data → Like profiles in a database\n",
        "- Organizing JSON Data → Nested dictionaries are similar to JSON\n",
        "- Configuration Settings → Managing multi-level settings in software\n",
        "- Game Development → Storing player details, inventory, and stats\n",
        "\"\"\""
      ],
      "metadata": {
        "id": "eS-gCrHZ8yAg"
      },
      "execution_count": null,
      "outputs": []
    },
    {
      "cell_type": "code",
      "source": [
        "#17 Describe the time complexity of accessing elements in a dictionary.\n",
        "\"\"\"\n",
        "Accessing elements in a dictionary is highly efficient, with an average time\n",
        " complexity of O(1) due to its hash table structure. This makes dictionaries\n",
        "  perfect for tasks that need fast and frequent data retrieval.\n",
        "\"\"\""
      ],
      "metadata": {
        "id": "TAac1_kz8yDr"
      },
      "execution_count": null,
      "outputs": []
    },
    {
      "cell_type": "code",
      "source": [
        "#18 In what situations are lists preferred over dictionaries?\n",
        "\"\"\"\n",
        "Lists are the better choice when maintaining the order of elements is important\n",
        "or when accessing items by their position. Unlike dictionaries that rely on keys,\n",
        " lists store elements in a specific sequence, making them ideal for tasks that involve working with ordered data.\n",
        "\"\"\""
      ],
      "metadata": {
        "id": "h9HXooJt8yGq"
      },
      "execution_count": null,
      "outputs": []
    },
    {
      "cell_type": "code",
      "source": [
        "#19 Why are dictionaries considered unordered, and how does that affect data retrieval?\n",
        "\"\"\"\n",
        "Dictionaries in Python are seen as unordered because they don't follow a fixed sequence for\n",
        "storing keys and values. However, this does not impact data retrieval since values are accessed\n",
        "directly using keys, thanks to the hashing mechanism.\n",
        "\"\"\""
      ],
      "metadata": {
        "id": "E12F0lb68yJ2"
      },
      "execution_count": null,
      "outputs": []
    },
    {
      "cell_type": "code",
      "source": [
        "#20 Explain the difference between a list and a dictionary in terms of data retrieval.\n",
        "\"\"\"\n",
        "In a list, elements are accessed using their index, making retrieval simple. However,\n",
        "earching for an unknown element requires scanning the list, which can take longer.\n",
        " On the other hand, a dictionary provides direct access to values using keys,\n",
        "  ensuring faster retrieval regardless of the number of elements.\n",
        "\"\"\""
      ],
      "metadata": {
        "id": "e05fhEEV8yMu"
      },
      "execution_count": null,
      "outputs": []
    },
    {
      "cell_type": "markdown",
      "source": [
        "#Practical Questions"
      ],
      "metadata": {
        "id": "tqKjC_sJvol5"
      }
    },
    {
      "cell_type": "code",
      "source": [
        "#1 Write a code to create a string with your name and print it\n",
        "\n",
        "\n",
        "name = \"Shivam Thacker\"\n",
        "\n",
        "print(name)\n"
      ],
      "metadata": {
        "colab": {
          "base_uri": "https://localhost:8080/"
        },
        "id": "ceDnZpunu3AN",
        "outputId": "6e6063cd-9417-4ba9-cc1f-87baaf94e7f6"
      },
      "execution_count": 39,
      "outputs": [
        {
          "output_type": "stream",
          "name": "stdout",
          "text": [
            "Shivam Thacker\n"
          ]
        }
      ]
    },
    {
      "cell_type": "code",
      "source": [
        "#2 Write a code to find the length of the string \"Hello World\"\n",
        "\n",
        "text = \"Hello World\"\n",
        "\n",
        "print(len(text))\n"
      ],
      "metadata": {
        "colab": {
          "base_uri": "https://localhost:8080/"
        },
        "id": "eelQCg-6vlFg",
        "outputId": "dfc94a99-1d75-4968-c5a0-a98a4d41aee0"
      },
      "execution_count": 40,
      "outputs": [
        {
          "output_type": "stream",
          "name": "stdout",
          "text": [
            "11\n"
          ]
        }
      ]
    },
    {
      "cell_type": "code",
      "source": [
        "#3Write a code to slice the first 3 characters from the string \"Python Programming\n",
        "\n",
        "text = \"Python Programming\"\n",
        "\n",
        "first_three = text[:3]\n",
        "\n",
        "print(first_three)\n"
      ],
      "metadata": {
        "colab": {
          "base_uri": "https://localhost:8080/"
        },
        "id": "A6nsca9pvlOC",
        "outputId": "d67508c2-edd3-48a4-bf0b-be476430c874"
      },
      "execution_count": 41,
      "outputs": [
        {
          "output_type": "stream",
          "name": "stdout",
          "text": [
            "Pyt\n"
          ]
        }
      ]
    },
    {
      "cell_type": "code",
      "source": [
        "#4 Write a code to convert the string \"hello\" to uppercaseP\n",
        "\n",
        "text = \"hello\"\n",
        "uppercase_text = text.upper()\n",
        "\n",
        "print(uppercase_text)\n"
      ],
      "metadata": {
        "colab": {
          "base_uri": "https://localhost:8080/"
        },
        "id": "wWY8oSSlvlUC",
        "outputId": "09ec4119-ba56-4a15-cb8d-5b4e139052c0"
      },
      "execution_count": 42,
      "outputs": [
        {
          "output_type": "stream",
          "name": "stdout",
          "text": [
            "HELLO\n"
          ]
        }
      ]
    },
    {
      "cell_type": "code",
      "source": [
        "#5  Write a code to replace the word \"apple\" with \"orange\" in the string \"I like apple\"P\n",
        "\n",
        "text = \"I like apple\"\n",
        "new_text = text.replace(\"apple\", \"orange\")\n",
        "\n",
        "print(new_text)\n"
      ],
      "metadata": {
        "colab": {
          "base_uri": "https://localhost:8080/"
        },
        "id": "DF1o949xvlZH",
        "outputId": "81eead5b-fdb9-4f0a-d9f1-3c4a499bf1d7"
      },
      "execution_count": 43,
      "outputs": [
        {
          "output_type": "stream",
          "name": "stdout",
          "text": [
            "I like orange\n"
          ]
        }
      ]
    },
    {
      "cell_type": "code",
      "source": [
        "#6 Write a code to create a list with numbers 1 to 5 and print it\n",
        "\n",
        "numbers = [1, 2, 3, 4, 5]\n",
        "\n",
        "print(numbers)\n"
      ],
      "metadata": {
        "colab": {
          "base_uri": "https://localhost:8080/"
        },
        "id": "zzgdGqUMvleK",
        "outputId": "6dc973d2-f355-4215-f64b-6baca1bcb27a"
      },
      "execution_count": 44,
      "outputs": [
        {
          "output_type": "stream",
          "name": "stdout",
          "text": [
            "[1, 2, 3, 4, 5]\n"
          ]
        }
      ]
    },
    {
      "cell_type": "code",
      "source": [
        "#7 Write a code to append the number 10 to the list [1, 2, 3, 4]P\n",
        "\n",
        "numbers = [1, 2, 3, 4]\n",
        "\n",
        "numbers.append(10)\n",
        "\n",
        "print(numbers)\n"
      ],
      "metadata": {
        "colab": {
          "base_uri": "https://localhost:8080/"
        },
        "id": "ncpFUZ6yvljK",
        "outputId": "cae1f2a2-e630-4569-d6aa-3772f58a8c1b"
      },
      "execution_count": 45,
      "outputs": [
        {
          "output_type": "stream",
          "name": "stdout",
          "text": [
            "[1, 2, 3, 4, 10]\n"
          ]
        }
      ]
    },
    {
      "cell_type": "code",
      "source": [
        "#8 Write a code to remove the number 3 from the list [1, 2, 3, 4, 5]\n",
        "\n",
        "numbers = [1, 2, 3, 4, 5]\n",
        "numbers.remove(3)\n",
        "\n",
        "print(numbers)\n"
      ],
      "metadata": {
        "colab": {
          "base_uri": "https://localhost:8080/"
        },
        "id": "vaxBJjh3vlnh",
        "outputId": "d3c57d9d-e9dd-4294-9c8f-f1723d3afc6e"
      },
      "execution_count": 46,
      "outputs": [
        {
          "output_type": "stream",
          "name": "stdout",
          "text": [
            "[1, 2, 4, 5]\n"
          ]
        }
      ]
    },
    {
      "cell_type": "code",
      "source": [
        "#9 Write a code to access the second element in the list ['a', 'b', 'c', 'd']\n",
        "\n",
        "letters = ['a', 'b', 'c', 'd']\n",
        "second_element = letters[1]\n",
        "\n",
        "print(second_element)\n"
      ],
      "metadata": {
        "colab": {
          "base_uri": "https://localhost:8080/"
        },
        "id": "aNzcr_z0vlsX",
        "outputId": "cb8be17e-73d9-49cb-b79a-d684b06712ff"
      },
      "execution_count": 47,
      "outputs": [
        {
          "output_type": "stream",
          "name": "stdout",
          "text": [
            "b\n"
          ]
        }
      ]
    },
    {
      "cell_type": "code",
      "source": [
        "#10 Write a code to reverse the list [10, 20, 30, 40, 50].\n",
        "\n",
        "numbers = [10, 20, 30, 40, 50]\n",
        "reversed_numbers = numbers[::-1]\n",
        "\n",
        "print(reversed_numbers)\n"
      ],
      "metadata": {
        "colab": {
          "base_uri": "https://localhost:8080/"
        },
        "id": "SLCkoDCFvlxI",
        "outputId": "dad65cac-c624-4aeb-df85-a6c40785056c"
      },
      "execution_count": 48,
      "outputs": [
        {
          "output_type": "stream",
          "name": "stdout",
          "text": [
            "[50, 40, 30, 20, 10]\n"
          ]
        }
      ]
    },
    {
      "cell_type": "code",
      "source": [
        "#11 Write a code to create a tuple with the elements 100, 200, 300 and print it.\n",
        "\n",
        "numbers = (100, 200, 300)\n",
        "print(numbers)\n"
      ],
      "metadata": {
        "colab": {
          "base_uri": "https://localhost:8080/"
        },
        "id": "DlBbEEDnvl2w",
        "outputId": "e62772c1-6789-49fe-fef6-99c8caff8d11"
      },
      "execution_count": 49,
      "outputs": [
        {
          "output_type": "stream",
          "name": "stdout",
          "text": [
            "(100, 200, 300)\n"
          ]
        }
      ]
    },
    {
      "cell_type": "code",
      "source": [
        "#12 Write a code to access the second-to-last element of the tuple ('red', 'green', 'blue', 'yellow').\n",
        "\n",
        "colors = ('red', 'green', 'blue', 'yellow')\n",
        "\n",
        "second_last = colors[-2]\n",
        "print(second_last)\n"
      ],
      "metadata": {
        "colab": {
          "base_uri": "https://localhost:8080/"
        },
        "id": "-BwtGWvXvl7u",
        "outputId": "23989a34-5df2-43b9-b16b-c84316929238"
      },
      "execution_count": 50,
      "outputs": [
        {
          "output_type": "stream",
          "name": "stdout",
          "text": [
            "blue\n"
          ]
        }
      ]
    },
    {
      "cell_type": "code",
      "source": [
        "#13 Write a code to find the minimum number in the tuple (10, 20, 5, 15).\n",
        "\n",
        "numbers = (10, 20, 5, 15)\n",
        "min_number = min(numbers)\n",
        "\n",
        "print(min_number)\n"
      ],
      "metadata": {
        "colab": {
          "base_uri": "https://localhost:8080/"
        },
        "id": "kg7l5exivmAo",
        "outputId": "246ed52b-40d9-40e6-b606-c5824ddb0019"
      },
      "execution_count": 51,
      "outputs": [
        {
          "output_type": "stream",
          "name": "stdout",
          "text": [
            "5\n"
          ]
        }
      ]
    },
    {
      "cell_type": "code",
      "source": [
        "#14 Write a code to find the index of the element \"cat\" in the tuple ('dog', 'cat', 'rabbit').\n",
        "\n",
        "animals = ('dog', 'cat', 'rabbit')\n",
        "\n",
        "cat_index = animals.index('cat')\n",
        "\n",
        "print(cat_index)\n"
      ],
      "metadata": {
        "colab": {
          "base_uri": "https://localhost:8080/"
        },
        "id": "kHUerVduvmFG",
        "outputId": "b2b10629-dca6-4088-b72f-488e6dd8eda3"
      },
      "execution_count": 52,
      "outputs": [
        {
          "output_type": "stream",
          "name": "stdout",
          "text": [
            "1\n"
          ]
        }
      ]
    },
    {
      "cell_type": "code",
      "source": [
        "#15 Write a code to create a tuple containing three different fruits and check if \"kiwi\" is in it\n",
        "\n",
        "fruits = (\"apple\", \"banana\", \"mango\")\n",
        "\n",
        "is_kiwi_present = \"kiwi\" in fruits\n",
        "\n",
        "print(is_kiwi_present)\n"
      ],
      "metadata": {
        "colab": {
          "base_uri": "https://localhost:8080/"
        },
        "id": "LP3nZ6hzvmJy",
        "outputId": "2a674ce5-fead-40a7-a775-dbf88040930e"
      },
      "execution_count": 55,
      "outputs": [
        {
          "output_type": "stream",
          "name": "stdout",
          "text": [
            "False\n"
          ]
        }
      ]
    },
    {
      "cell_type": "code",
      "source": [
        "#16  Write a code to create a set with the elements 'a', 'b', 'c' and print it.\n",
        "\n",
        "my_set = {'a', 'b', 'c'}\n",
        "\n",
        "print(my_set)\n"
      ],
      "metadata": {
        "colab": {
          "base_uri": "https://localhost:8080/"
        },
        "id": "cMQGarc_vmOu",
        "outputId": "265926a1-2ff5-400f-bc80-e2c0495e783e"
      },
      "execution_count": 56,
      "outputs": [
        {
          "output_type": "stream",
          "name": "stdout",
          "text": [
            "{'b', 'a', 'c'}\n"
          ]
        }
      ]
    },
    {
      "cell_type": "code",
      "source": [
        "#17 Write a code to clear all elements from the set {1, 2, 3, 4, 5}.\n",
        "\n",
        "numbers = {1, 2, 3, 4, 5}\n",
        "\n",
        "numbers.clear()\n",
        "print(numbers)\n"
      ],
      "metadata": {
        "colab": {
          "base_uri": "https://localhost:8080/"
        },
        "id": "tpKtixIXvmUZ",
        "outputId": "a8896a53-21dc-4173-c1d3-c3f6fae255be"
      },
      "execution_count": 57,
      "outputs": [
        {
          "output_type": "stream",
          "name": "stdout",
          "text": [
            "set()\n"
          ]
        }
      ]
    },
    {
      "cell_type": "code",
      "source": [
        "#18 Write a code to remove the element 4 from the set {1, 2, 3, 4}\n",
        "\n",
        "numbers = {1, 2, 3, 4}\n",
        "\n",
        "numbers.remove(4)\n",
        "\n",
        "print(numbers)\n"
      ],
      "metadata": {
        "id": "XwfAr8Os8yO6",
        "colab": {
          "base_uri": "https://localhost:8080/"
        },
        "outputId": "4d18a1ee-deba-4e83-f9b5-51d5da22a0a4"
      },
      "execution_count": 58,
      "outputs": [
        {
          "output_type": "stream",
          "name": "stdout",
          "text": [
            "{1, 2, 3}\n"
          ]
        }
      ]
    },
    {
      "cell_type": "code",
      "source": [
        "#19 Write a code to find the union of two sets {1, 2, 3} and {3, 4, 5}.\n",
        "\n",
        "\n",
        "set1 = {1, 2, 3}\n",
        "set2 = {3, 4, 5}\n",
        "\n",
        "union_set = set1.union(set2)\n",
        "\n",
        "\n",
        "print(union_set)\n"
      ],
      "metadata": {
        "id": "xgPC0VXq8yRy",
        "colab": {
          "base_uri": "https://localhost:8080/"
        },
        "outputId": "fba47f5b-43bd-419a-db0e-199a30266df1"
      },
      "execution_count": 59,
      "outputs": [
        {
          "output_type": "stream",
          "name": "stdout",
          "text": [
            "{1, 2, 3, 4, 5}\n"
          ]
        }
      ]
    },
    {
      "cell_type": "code",
      "source": [
        "#20 Write a code to find the intersection of two sets {1, 2, 3} and {2, 3, 4}.\n",
        "\n",
        "set1 = {1, 2, 3}\n",
        "set2 = {2, 3, 4}\n",
        "\n",
        "intersection_set = set1.intersection(set2)\n",
        "\n",
        "print(intersection_set)\n"
      ],
      "metadata": {
        "id": "gnADPmoj8yU1",
        "colab": {
          "base_uri": "https://localhost:8080/"
        },
        "outputId": "986e6646-474a-4b96-b4be-a9c62b6254c6"
      },
      "execution_count": 60,
      "outputs": [
        {
          "output_type": "stream",
          "name": "stdout",
          "text": [
            "{2, 3}\n"
          ]
        }
      ]
    },
    {
      "cell_type": "code",
      "source": [
        "#21 Write a code to create a dictionary with the keys \"name\", \"age\", and \"city\", and print it.\n",
        "\n",
        "person = {\n",
        "    \"name\": \"Shivam\",\n",
        "    \"age\": 24,\n",
        "    \"city\": \"Rajkot\"\n",
        "}\n",
        "\n",
        "print(person)\n"
      ],
      "metadata": {
        "colab": {
          "base_uri": "https://localhost:8080/"
        },
        "id": "scGhYlIfxTWN",
        "outputId": "4a8e0700-3a7a-4b16-ff41-f0d9305db130"
      },
      "execution_count": 61,
      "outputs": [
        {
          "output_type": "stream",
          "name": "stdout",
          "text": [
            "{'name': 'Shivam', 'age': 24, 'city': 'Rajkot'}\n"
          ]
        }
      ]
    },
    {
      "cell_type": "code",
      "source": [
        "#22  Write a code to add a new key-value pair \"country\": \"USA\" to the dictionary {'name': 'John', 'age': 25}.\n",
        "\n",
        "person = {'name': 'John', 'age': 25}\n",
        "\n",
        "person['country'] = 'USA'\n",
        "\n",
        "print(person)\n"
      ],
      "metadata": {
        "colab": {
          "base_uri": "https://localhost:8080/"
        },
        "id": "HOXIMbkFxTb0",
        "outputId": "fdc7a03e-68c6-4690-cf30-26f5d2fd82d5"
      },
      "execution_count": 62,
      "outputs": [
        {
          "output_type": "stream",
          "name": "stdout",
          "text": [
            "{'name': 'John', 'age': 25, 'country': 'USA'}\n"
          ]
        }
      ]
    },
    {
      "cell_type": "code",
      "source": [
        "#23 Write a code to access the value associated with the key \"name\" in the dictionary {'name': 'Alice', 'age': 30}.\n",
        "\n",
        "person = {'name': 'Alice', 'age': 30}\n",
        "\n",
        "name_value = person['name']\n",
        "\n",
        "print(name_value)\n",
        "\n"
      ],
      "metadata": {
        "colab": {
          "base_uri": "https://localhost:8080/"
        },
        "id": "BnOOxZioxTgs",
        "outputId": "4d8b739a-5dc2-4746-9359-b9ce12cfa8de"
      },
      "execution_count": 63,
      "outputs": [
        {
          "output_type": "stream",
          "name": "stdout",
          "text": [
            "Alice\n"
          ]
        }
      ]
    },
    {
      "cell_type": "code",
      "source": [
        "#24  Write a code to remove the key \"age\" from the dictionary {'name': 'Bob', 'age': 22, 'city': 'New York'}.\n",
        "\n",
        "person = {'name': 'Bob', 'age': 22, 'city': 'New York'}\n",
        "\n",
        "del person['age']\n",
        "\n",
        "print(person)"
      ],
      "metadata": {
        "colab": {
          "base_uri": "https://localhost:8080/"
        },
        "id": "9o1RpCAPxTke",
        "outputId": "b7048b0a-79ed-4450-9749-a849ae106994"
      },
      "execution_count": 64,
      "outputs": [
        {
          "output_type": "stream",
          "name": "stdout",
          "text": [
            "{'name': 'Bob', 'city': 'New York'}\n"
          ]
        }
      ]
    },
    {
      "cell_type": "code",
      "source": [
        "#25 Write a code to check if the key \"city\" exists in the dictionary {'name': 'Alice', 'city': 'Paris'}.\n",
        "\n",
        "\n",
        "person = {'name': 'Alice', 'city': 'Paris'}\n",
        "\n",
        "\n",
        "if 'city' in person:\n",
        "    print(\"Key 'city' exists in the dictionary.\")\n",
        "else:\n",
        "    print(\"Key 'city' does not exist in the dictionary.\")\n"
      ],
      "metadata": {
        "colab": {
          "base_uri": "https://localhost:8080/"
        },
        "id": "OnjONd3GxToQ",
        "outputId": "a861be1c-8072-49e5-f66e-6335a4ccb29a"
      },
      "execution_count": 65,
      "outputs": [
        {
          "output_type": "stream",
          "name": "stdout",
          "text": [
            "Key 'city' exists in the dictionary.\n"
          ]
        }
      ]
    },
    {
      "cell_type": "code",
      "source": [
        "#26 Write a code to create a list, a tuple, and a dictionary, and print them all.\n",
        "\n",
        "\n",
        "my_list = [1, 2, 3, 4, 5]\n",
        "\n",
        "\n",
        "my_tuple = ('apple', 'banana', 'cherry')\n",
        "\n",
        "\n",
        "my_dict = {'name': 'Alice', 'age': 25, 'city': 'New York'}\n",
        "\n",
        "print(\"List:\", my_list)\n",
        "print(\"Tuple:\", my_tuple)\n",
        "print(\"Dictionary:\", my_dict)\n"
      ],
      "metadata": {
        "colab": {
          "base_uri": "https://localhost:8080/"
        },
        "id": "4EVEg1UlxTrs",
        "outputId": "3def7af1-182f-437b-d332-02f574fb013f"
      },
      "execution_count": 66,
      "outputs": [
        {
          "output_type": "stream",
          "name": "stdout",
          "text": [
            "List: [1, 2, 3, 4, 5]\n",
            "Tuple: ('apple', 'banana', 'cherry')\n",
            "Dictionary: {'name': 'Alice', 'age': 25, 'city': 'New York'}\n"
          ]
        }
      ]
    },
    {
      "cell_type": "code",
      "source": [
        "#27 Write a code to create a list of 5 random numbers between 1 and 100, sort it in ascending order, and print the result.(replaced)\n",
        "\n",
        "import random\n",
        "\n",
        "\n",
        "random_numbers = random.sample(range(1, 101), 5)\n",
        "random_numbers.sort()\n",
        "\n",
        "\n",
        "print(\"Sorted random numbers:\", random_numbers)\n"
      ],
      "metadata": {
        "colab": {
          "base_uri": "https://localhost:8080/"
        },
        "id": "gW25GQzbxTvT",
        "outputId": "3d933587-a735-4721-de92-380ee4ea066b"
      },
      "execution_count": 67,
      "outputs": [
        {
          "output_type": "stream",
          "name": "stdout",
          "text": [
            "Sorted random numbers: [53, 64, 75, 77, 80]\n"
          ]
        }
      ]
    },
    {
      "cell_type": "code",
      "source": [
        "#28 Write a code to create a list with strings and print the element at the third index.\n",
        "\n",
        "fruits = [\"apple\", \"banana\", \"cherry\", \"mango\", \"orange\"]\n",
        "\n",
        "print(\"Element at index 3:\", fruits[3])\n"
      ],
      "metadata": {
        "colab": {
          "base_uri": "https://localhost:8080/"
        },
        "id": "AwsZRBiUxTzJ",
        "outputId": "3483779f-cf90-4b9b-a72e-ab4f3f028d93"
      },
      "execution_count": 68,
      "outputs": [
        {
          "output_type": "stream",
          "name": "stdout",
          "text": [
            "Element at index 3: mango\n"
          ]
        }
      ]
    },
    {
      "cell_type": "code",
      "source": [
        "#29 Write a code to combine two dictionaries into one and print the result\n",
        "\n",
        "dict1 = {'name': 'Alice', 'age': 25}\n",
        "dict2 = {'city': 'New York', 'country': 'USA'}\n",
        "\n",
        "combined_dict = {**dict1, **dict2}\n",
        "\n",
        "\n",
        "print(\"Combined Dictionary:\", combined_dict)\n"
      ],
      "metadata": {
        "colab": {
          "base_uri": "https://localhost:8080/"
        },
        "id": "DpXfDLiLxT3V",
        "outputId": "8f968a96-0f4d-4bb7-d56a-89e787a65a13"
      },
      "execution_count": 69,
      "outputs": [
        {
          "output_type": "stream",
          "name": "stdout",
          "text": [
            "Combined Dictionary: {'name': 'Alice', 'age': 25, 'city': 'New York', 'country': 'USA'}\n"
          ]
        }
      ]
    },
    {
      "cell_type": "code",
      "source": [
        "#30 Write a code to convert a list of strings into a set.\n",
        "\n",
        "fruits = [\"apple\", \"banana\", \"cherry\", \"apple\", \"banana\"]\n",
        "\n",
        "fruit_set = set(fruits)\n",
        "\n",
        "print(\"Set:\", fruit_set)\n"
      ],
      "metadata": {
        "colab": {
          "base_uri": "https://localhost:8080/"
        },
        "id": "o9nLGekrxT8C",
        "outputId": "a2a17ce7-11d8-4165-e866-712d5bd5b6f4"
      },
      "execution_count": 70,
      "outputs": [
        {
          "output_type": "stream",
          "name": "stdout",
          "text": [
            "Set: {'banana', 'cherry', 'apple'}\n"
          ]
        }
      ]
    },
    {
      "cell_type": "code",
      "source": [],
      "metadata": {
        "id": "umkcMuC65KeA"
      },
      "execution_count": null,
      "outputs": []
    }
  ]
}